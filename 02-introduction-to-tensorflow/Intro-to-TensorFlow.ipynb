{
 "cells": [
  {
   "cell_type": "markdown",
   "metadata": {},
   "source": [
    "# Introdução ao TensorFlow"
   ]
  },
  {
   "cell_type": "markdown",
   "metadata": {},
   "source": [
    " - __Tensor__ = Objeto matemático\n",
    " - __Flow__ = Fluxo  \n",
    " - __TensorFlow__ = Fluxo de um objeto matemático\n",
    "\n",
    "O __Tensorflow - (Fluxo de um objeto matemático)__ é uma das bibliotecas mais amplamente utilizadas para implementar o aprendizado de máquina e outros algoritmos que envolvem grandes operações matemáticas. O Tensorflow foi desenvolvido pelo Google e é uma das bibliotecas de aprendizado de máquina mais populares no GitHub. O Google usa o Tensorflow para aprendizado de máquina em quase todos os aplicativos. Se você já usou o Google Photos ou o Google Voice Search, então já utilizou uma aplicação criada com a ajuda do TensorFlow. Vamos compreender os detalhes por trás do TensorFlow.\n",
    "\n",
    "Matematicamente, um tensor é um vetor __N-dimensional__, significando que um tensor pode ser usado para representar conjuntos de dados __N-dimensionais__. Aqui está um exemplo:\n",
    "\n",
    "![title](imagens/tensor1.png)"
   ]
  },
  {
   "cell_type": "markdown",
   "metadata": {},
   "source": [
    "A figura acima mostra alguns tensores simplificados com dimensões mínimas. À medida que a dimensão continua crescendo, os dados se tornam mais e mais complexos. Por exemplo:\n",
    "\n",
    " - Se pegarmos um Tensor da forma (3x3), posso chamá-lo de matriz de 3 linhas e colunas\n",
    " - Se eu selecionar outro Tensor de forma (1000x3x3), posso chamá-lo como tensor ou conjunto de 1000 matrizes 3x3. Aqui chamamos (1000x3x3) como a forma ou dimensão do tensor resultante. Os tensores podem ser constantes ou variáveis."
   ]
  },
  {
   "cell_type": "markdown",
   "metadata": {},
   "source": [
    "![title](imagens/tensor2.png)"
   ]
  },
  {
   "cell_type": "markdown",
   "metadata": {},
   "source": [
    "# Tensores - Examples\n",
    "\n",
    "![title](imagens/tensor3.png)"
   ]
  },
  {
   "cell_type": "markdown",
   "metadata": {},
   "source": [
    "# TensorFlow x NumPy"
   ]
  },
  {
   "cell_type": "markdown",
   "metadata": {},
   "source": [
    "__TensorFlow__ e __NumPy__ são bastante semelhantes __(ambos são bibliotecas de matriz N-d)__. NumPy é o pacote fundamental para computação científica com Python. Ele contém um poderoso objeto array N-dimensional, funções sofisticadas (broadcasting) e etc. Acredito que os usuários Python não podem viver sem o NumPy. O NumPy tem suporte a matriz N-d, mas não oferece métodos para criar funções de tensor e automaticamente computar derivadas, além de não ter suporte a GPU, e esta é uma das principais razões para a existência do TensorFlow. Abaixo uma comparação entre NumPy e TensorFlow, e você vai perceber que muitas palavras-chave são semelhantes."
   ]
  },
  {
   "cell_type": "markdown",
   "metadata": {},
   "source": [
    "![title](imagens/tf_numpy.png)"
   ]
  },
  {
   "cell_type": "markdown",
   "metadata": {},
   "source": [
    "# Grafo Computacional\n",
    "\n",
    "Agora que sabemos o que um __tensor__ realmente significa é hora de entender o __fluxo__. Este fluxo refere-se a um __\"Grafo Computacional\"__ ou simplesmente um __\"grafo\"__. \n",
    "  \n",
    "__Grafos Computacionais__ são uma boa maneira de pensar em expressões matemáticas. O conceito de grafo foi introduzido por __\"Leonhard Euler\"__ em 1736 para tentar resolver o problema das Pontes de Konigsberg. Grafos são modelos matemáticos para resolver problemas práticos do dia a dia, com várias aplicações no mundo real tais como:\n",
    "\n",
    " - Circuitos elétricos\n",
    " - Redes de distribuição\n",
    " - Relações de parentesco entre pessoas\n",
    " - Análise de redes sociais\n",
    " - Logística\n",
    " - Redes de estradas\n",
    " - Redes de computadores\n",
    " \n",
    "Grafos são muito usados para modelar problemas em computação.  \n",
    "  \n",
    "Um Grafo é um __modelo matemático que representa relações entre objetos__. Um grafo G = (V, E) consiste de um conjunto de:\n",
    "\n",
    " - vértices __\"V\"__ (também chamados de nós)\n",
    " - ligados por um conjunto de bordas ou arestas __\"E\"__\n",
    " \n",
    "#### Considere o diagrama abaixo:\n",
    "\n",
    "![title](imagens/grafo1.png)"
   ]
  },
  {
   "cell_type": "markdown",
   "metadata": {},
   "source": [
    "Existem três operações: duas adições e uma multiplicação. Ou seja: \n",
    "\n",
    "- c = a+b\n",
    "- d = b+1\n",
    "- e = c∗d\n",
    "\n",
    "Para criar um grafo computacional, fazemos cada uma dessas operações nos nós, juntamente com as variáveis de entrada. Quando o valor de um nó é a entrada para outro nó, uma seta vai de um para outro e temos nesse caso um __\"Grafo direcionado\"__.\n",
    "\n",
    "Esses tipos de grafos surgem o tempo todo em Ciência da Computação, especialmente ao falar sobre programas funcionais. Eles estão intimamente relacionados com as noções de grafos de dependência e grafos de chamadas. Eles também são a principal abstração por trás do popular framework de Deep Learning, o TensorFlow."
   ]
  },
  {
   "cell_type": "markdown",
   "metadata": {},
   "source": [
    "# NOTE:\n",
    "Um grafo para execução de um modelo de Machine Learning pode ser bem grande e podemos executar sub-grafos (porções dos grafos) em dispositivos diferentes, como uma GPU. Exemplo:"
   ]
  },
  {
   "cell_type": "markdown",
   "metadata": {},
   "source": [
    "![title](imagens/grafo2.png)"
   ]
  },
  {
   "cell_type": "markdown",
   "metadata": {},
   "source": [
    "A figura acima explica a execução paralela de sub-grafos. Aqui estão 2 operações de multiplicação de matrizes, já que ambas estão no mesmo nível. Os nós são executados em __gpu_0__ e __gpu_1__ em paralelo."
   ]
  },
  {
   "cell_type": "markdown",
   "metadata": {},
   "source": [
    "# Modelo de Programação TensorFlow"
   ]
  },
  {
   "cell_type": "markdown",
   "metadata": {},
   "source": [
    "> O principal objetivo de um programa TensorFlow é __\"expressar uma computação numérica como um grafo direcionado\"__.  \n",
    "  \n",
    "A figura abaixo é um exemplo de grafo de computação, que representa o cálculo de h = ReLU (Wx + b). Este é um componente muito clássico em muitas redes neurais, que conduz a transformação linear dos dados de entrada e, em seguida, alimenta uma linearidade (função de ativação linear retificada, neste caso)."
   ]
  },
  {
   "cell_type": "markdown",
   "metadata": {},
   "source": [
    "![title](imagens/grafo3.png)"
   ]
  },
  {
   "cell_type": "markdown",
   "metadata": {},
   "source": [
    "O grafo acima representa um cálculo de fluxo de dados; cada nó está em operação com zero ou mais entradas e zero ou mais saídas. As arestas do grafo são tensores que fluem entre os nós. Os clientes geralmente constroem um grafo computacional usando uma das linguagens frontend suportadas como Python e C ++ e, em seguida, iniciam o grafo em uma sessão a ser executada (Session é uma noção muito importante no TensorFlow, que estudaremos na sequência)."
   ]
  },
  {
   "cell_type": "markdown",
   "metadata": {},
   "source": [
    "Vamos ver o grafo computacional acima em detalhes. Truncamos o grafo e deixamos a parte acima do nó ReLU, que é exatamente o cálculo h = ReLU (Wx + b)."
   ]
  },
  {
   "cell_type": "markdown",
   "metadata": {},
   "source": [
    "![title](imagens/grafo4.png)"
   ]
  },
  {
   "cell_type": "markdown",
   "metadata": {},
   "source": [
    "Podemos ver o grafo como um sistema, que tem entradas (os dados x), saída (h neste caso), variáveis com estado (W e b) e um monte de operações (matmul, add e ReLU). Deixe-me apresentar-lhe um por um.\n",
    "\n",
    "- Placeholders: para alimentar a entrada para treinar o modelo ou fazer inferência, devemos ter uma porta de entrada para o grafo. Espaços reservados (Placeholders) são nós cujos valores são alimentados em tempo de execução. Normalmente, queremos alimentar entradas de dados, rótulos e hiper-parâmetros no modelo.\n",
    "\n",
    "\n",
    "- Variáveis: quando treinamos um modelo, usamos variáveis para manter e atualizar parâmetros. Ao contrário de muitos tensores que fluem ao longo das margens do grafo, uma variável é um tipo especial de operação. Na maioria dos modelos de aprendizado de máquina, existem muitos parâmetros que temos que aprender, que são atualizados durante o treinamento. Variáveis são nós com estado que armazenam parâmetros e produzem seus valores atuais de tempos em tempos. Seus estados são mantidos em múltiplas execuções de um grafo. Por exemplo, os valores desses nós não serão atualizados até que uma etapa completa de treinamento usando um mini lote de dados seja concluída.\n",
    "\n",
    "\n",
    "- Operações matemáticas: Neste grafo, existem três tipos de operações matemáticas. A operação MatMul multiplica dois valores de matriz; A operação Add adiciona elementos e a operação ReLU é ativada com a função linear retificada de elementos."
   ]
  },
  {
   "cell_type": "markdown",
   "metadata": {},
   "source": [
    "Variáveis devem ser explicitamente inicializadas. Quando criamos uma variável, passamos um tensor como seu valor inicial para o construtor variable (). O inicializador pode ser constantes, sequências e valores aleatórios. Neste caso, inicializamos o vetor de polarização b por constantes que são zeros e inicializamos a matriz de ponderações W por uniforme aleatório Observe que todos esses ops exigem que você especifique a forma dos tensores e que a forma se torne automaticamente a forma da variável , Neste caso, um tensor com forma (100,) e W é um tensor de classificação com forma (784, 100)."
   ]
  },
  {
   "cell_type": "markdown",
   "metadata": {},
   "source": [
    "Para executar o cálculo, devemos lançar o grafo em um tf.Session. O que é uma sessão? Podemos entender uma sessão como um ambiente para executar o grafo. Na verdade, para fazer computação numérica eficiente em Python, normalmente usamos bibliotecas como o NumPy que realizam operações custosas computacionalmente, como a multiplicação de matrizes, usando código altamente eficiente implementado em outro idioma (C). Infelizmente, ainda há muita sobrecarga voltando para o Python em todas as operações. Essa sobrecarga é particularmente ruim se você quiser fazer cálculos em GPUs ou de maneira distribuída, onde pode haver um alto custo para transferir dados."
   ]
  },
  {
   "cell_type": "markdown",
   "metadata": {},
   "source": [
    "# Hello World"
   ]
  },
  {
   "cell_type": "code",
   "execution_count": 1,
   "metadata": {},
   "outputs": [],
   "source": [
    "# Importa a biblioteca TensorFlow.\n",
    "import tensorflow as tf"
   ]
  },
  {
   "cell_type": "code",
   "execution_count": 2,
   "metadata": {},
   "outputs": [
    {
     "data": {
      "text/plain": [
       "'1.1.0'"
      ]
     },
     "execution_count": 2,
     "metadata": {},
     "output_type": "execute_result"
    }
   ],
   "source": [
    "# Verifica a versão atual do T\n",
    "tf.__version__"
   ]
  },
  {
   "cell_type": "code",
   "execution_count": 3,
   "metadata": {},
   "outputs": [],
   "source": [
    "# Cria um tensor\n",
    "# Esse tensor é adicionado como um nó ao grafo.\n",
    "hello = tf.constant('Hello, TensorFlow!')"
   ]
  },
  {
   "cell_type": "code",
   "execution_count": 4,
   "metadata": {},
   "outputs": [
    {
     "name": "stdout",
     "output_type": "stream",
     "text": [
      "Tensor(\"Const:0\", shape=(), dtype=string)\n"
     ]
    }
   ],
   "source": [
    "# Exibe o tensor criado.\n",
    "print(hello)"
   ]
  },
  {
   "cell_type": "code",
   "execution_count": 5,
   "metadata": {},
   "outputs": [],
   "source": [
    "# Inicia a sessão TensorFlow - Cria uma instância do objeto Session e salva na variável \"sess\".\n",
    "sess = tf.Session()"
   ]
  },
  {
   "cell_type": "code",
   "execution_count": 6,
   "metadata": {},
   "outputs": [
    {
     "name": "stdout",
     "output_type": "stream",
     "text": [
      "<tensorflow.python.client.session.Session object at 0x7f57af04b470>\n"
     ]
    }
   ],
   "source": [
    "# Exibe a sessão criada.\n",
    "print(sess)"
   ]
  },
  {
   "cell_type": "code",
   "execution_count": 7,
   "metadata": {},
   "outputs": [
    {
     "name": "stdout",
     "output_type": "stream",
     "text": [
      "b'Hello, TensorFlow!'\n"
     ]
    }
   ],
   "source": [
    "# - A partir da sessão(sess) chama o método run() e executa o nosso tensor \"hello\".\n",
    "# Executa o Grafo Computacional\n",
    "print(sess.run(hello))"
   ]
  },
  {
   "cell_type": "markdown",
   "metadata": {},
   "source": [
    "# Operações Matemáticas com Tensores"
   ]
  },
  {
   "cell_type": "markdown",
   "metadata": {},
   "source": [
    "# Soma"
   ]
  },
  {
   "cell_type": "code",
   "execution_count": 8,
   "metadata": {},
   "outputs": [],
   "source": [
    "# Constantes\n",
    "# Cria dois \"tensores\" com o método \"constant\" do TensorFloe e passa como argumento os valores\n",
    "# dos tensores, ou seja, 5 e 9.\n",
    "const_a = tf.constant(5) # Tensor rank 0 ou escalar - [].\n",
    "const_b = tf.constant(9) # Tensor rank 0 ou escalar - []."
   ]
  },
  {
   "cell_type": "code",
   "execution_count": 9,
   "metadata": {},
   "outputs": [
    {
     "name": "stdout",
     "output_type": "stream",
     "text": [
      "Tensor(\"Const_1:0\", shape=(), dtype=int32)\n"
     ]
    }
   ],
   "source": [
    "# Exibe o Tensor \"const_a\".\n",
    "print(const_a)"
   ]
  },
  {
   "cell_type": "code",
   "execution_count": 10,
   "metadata": {},
   "outputs": [],
   "source": [
    "# Soma os 2 tensores e salva na variável \"total\".\n",
    "total = const_a + const_b"
   ]
  },
  {
   "cell_type": "code",
   "execution_count": 11,
   "metadata": {},
   "outputs": [
    {
     "name": "stdout",
     "output_type": "stream",
     "text": [
      "Tensor(\"add:0\", shape=(), dtype=int32)\n"
     ]
    }
   ],
   "source": [
    "# Exibe a soma dos tensores.\n",
    "print(total)"
   ]
  },
  {
   "cell_type": "markdown",
   "metadata": {},
   "source": [
    "# NOTE:\n",
    "Isso que nós fizemos até agora __não foi a soma dos tensores__. Lembram que nós trabalhamos com esses tensores como Grafos? Então, o que foi feito até agora foi:\n",
    "\n",
    " - __Definir os vertices(V) - Nodes__\n",
    " - __Definir às arestas(E)__"
   ]
  },
  {
   "cell_type": "markdown",
   "metadata": {},
   "source": [
    "Agora o que precisamos é abrir uma Sessão TensorFlow para fazer a soma."
   ]
  },
  {
   "cell_type": "code",
   "execution_count": 14,
   "metadata": {},
   "outputs": [
    {
     "name": "stdout",
     "output_type": "stream",
     "text": [
      "\n",
      "A soma do node1 com o node2 é: 14.000000\n"
     ]
    }
   ],
   "source": [
    "# Cria uma sessão TensorFlow, porém, agora essa sessão vai permanecer aberta.\n",
    "# Depois printa a \"sess.run(total)\", ou seja, exibe o total(soma dos nodes).\n",
    "with tf.Session() as sess:\n",
    "    print('\\nA soma do node1 com o node2 é: %f' % sess.run(total))"
   ]
  },
  {
   "cell_type": "markdown",
   "metadata": {},
   "source": [
    "# NOTE:\n",
    "Uma maneira bem mais simples de fazer essa operação é utilizando o método add() do TensorFlow. Veja abaixo:"
   ]
  },
  {
   "cell_type": "code",
   "execution_count": 17,
   "metadata": {},
   "outputs": [
    {
     "name": "stdout",
     "output_type": "stream",
     "text": [
      "\n",
      "A soma do node1 com o node2 é: 14\n"
     ]
    }
   ],
   "source": [
    "# Cria dois tensores com os valores 5 e 9\n",
    "node1 = tf.constant(5, dtype=tf.int32)\n",
    "node2 = tf.constant(9, dtype=tf.int32)\n",
    "\n",
    "# Cria um terceiro tensor \"node3\", porém, esse tensor vai receber a adição(add()) dos dois tensores.\n",
    "node3 = tf.add(node1, node2)\n",
    "\n",
    "# Cria a sessão TF\n",
    "sess = tf.Session()\n",
    " \n",
    "# Executa o grafo com o método run() da sessão, ou seja, abre a sessão.\n",
    "print(\"\\nA soma do node1 com o node2 é:\", sess.run(node3))\n",
    " \n",
    "# Fecha a sessão.\n",
    "sess.close()"
   ]
  },
  {
   "cell_type": "markdown",
   "metadata": {},
   "source": [
    "# Subtração"
   ]
  },
  {
   "cell_type": "markdown",
   "metadata": {},
   "source": [
    "Veja abaixo que é possível criar \"tensores\" com valores randômicos, esses valores randômicos porem ser:\n",
    "\n",
    " - Normal\n",
    " - Uniforme"
   ]
  },
  {
   "cell_type": "code",
   "execution_count": 19,
   "metadata": {},
   "outputs": [],
   "source": [
    "# Tensores randômicos\n",
    "rand_a = tf.random_normal([3], 2.0) # Tensor randômico normal.\n",
    "rand_b = tf.random_uniform([3], 1.0, 4.0) # Tensor randômico uniforme."
   ]
  },
  {
   "cell_type": "code",
   "execution_count": 20,
   "metadata": {},
   "outputs": [
    {
     "name": "stdout",
     "output_type": "stream",
     "text": [
      "Tensor(\"random_normal:0\", shape=(3,), dtype=float32)\n"
     ]
    }
   ],
   "source": [
    "# Exibe o tensor \"rand_a\".\n",
    "print(rand_a)"
   ]
  },
  {
   "cell_type": "code",
   "execution_count": 21,
   "metadata": {},
   "outputs": [
    {
     "name": "stdout",
     "output_type": "stream",
     "text": [
      "Tensor(\"random_uniform:0\", shape=(3,), dtype=float32)\n"
     ]
    }
   ],
   "source": [
    "# Exibe o tensor \"rand_b\".\n",
    "print(rand_b)"
   ]
  },
  {
   "cell_type": "code",
   "execution_count": 22,
   "metadata": {},
   "outputs": [],
   "source": [
    "# Utiliza o método subtract() do TensorFlow e passa como argumento os tensores \"rand_a\" e \"rand_b\".\n",
    "# O retorno do método fica no objeto \"diff\".\n",
    "diff = tf.subtract(rand_a, rand_b)"
   ]
  },
  {
   "cell_type": "code",
   "execution_count": 23,
   "metadata": {},
   "outputs": [
    {
     "name": "stdout",
     "output_type": "stream",
     "text": [
      "\n",
      "Tensor rand_a:  [-0.06870723  2.1538513   3.0993347 ]\n",
      "\n",
      "Tensor rand_b:  [3.2446578 2.5672998 3.6344986]\n",
      "\n",
      "Subtração entre os 2 tensores é:  [-2.0652215 -0.7301471 -2.6839275]\n"
     ]
    }
   ],
   "source": [
    "# Agora vamos abrir a sessão e exibir:\n",
    "# - O valor do tensor \"rand_a\"\n",
    "# - O valor do tensor \"rand_b\"\n",
    "# - Executa o grafo com o métood run() do objeto Session.\n",
    "with tf.Session() as sess:\n",
    "    print('\\nTensor rand_a: ', sess.run(rand_a))\n",
    "    print('\\nTensor rand_b: ', sess.run(rand_b))\n",
    "    print('\\nSubtração entre os 2 tensores é: ', sess.run(diff))"
   ]
  },
  {
   "cell_type": "markdown",
   "metadata": {},
   "source": [
    "# Divisão"
   ]
  },
  {
   "cell_type": "code",
   "execution_count": 24,
   "metadata": {},
   "outputs": [],
   "source": [
    "# Cria dois tensores e passa como argumento os valores 21 e 7.\n",
    "node1 = tf.constant(21, dtype=tf.int32)\n",
    "node2 = tf.constant(7, dtype=tf.int32)"
   ]
  },
  {
   "cell_type": "code",
   "execution_count": 25,
   "metadata": {},
   "outputs": [],
   "source": [
    "# Utiliza o método div() do TensorFlow para fazer a divisão entre Tensores.\n",
    "div = tf.div(node1, node2)"
   ]
  },
  {
   "cell_type": "code",
   "execution_count": 27,
   "metadata": {},
   "outputs": [
    {
     "name": "stdout",
     "output_type": "stream",
     "text": [
      "\n",
      "Divisão entre os 2 tensores é:  3\n"
     ]
    }
   ],
   "source": [
    "# Cria uma Sessão(Session) e executa o grafo computaiconal.\n",
    "with tf.Session() as sess:\n",
    "    print('\\nDivisão entre os 2 tensores é: ', sess.run(div)) # Utiliza o método run() do objeto Session."
   ]
  },
  {
   "cell_type": "markdown",
   "metadata": {},
   "source": [
    "# Multiplicação\n",
    "\n",
    "#### NOTE:  \n",
    "Para calcular __\"A\"__ vezes __\"B\"__, __A.B__, o número de colunas de __\"A\"__ tem que ser igual ao número de linhas __\"B\"__. Então, podemos calcular __A.B__ se:\n",
    "\n",
    " - __\"A\"__ é uma matriz - __n x m__\n",
    " - E __\"B\"__ é uma matriz - __m x p__ \n",
    "\n",
    "\n",
    "Uma multiplicação de matriz é a multiplicação de uma linha com os elementos de uma coluna, veja o exemplo abaixo:\n",
    "\n",
    "![title](imagens/mult02.png)"
   ]
  },
  {
   "cell_type": "code",
   "execution_count": 28,
   "metadata": {},
   "outputs": [],
   "source": [
    "# Criando tensores \"tensor_a\" e \"tensor_b\".\n",
    "tensor_a = tf.constant([[4., 2.]])\n",
    "tensor_b = tf.constant([[3.],[7.]])"
   ]
  },
  {
   "cell_type": "code",
   "execution_count": 29,
   "metadata": {},
   "outputs": [
    {
     "name": "stdout",
     "output_type": "stream",
     "text": [
      "Tensor(\"Const_9:0\", shape=(1, 2), dtype=float32)\n"
     ]
    }
   ],
   "source": [
    "# Exibe o tensor \"tensor_a\".\n",
    "print(tensor_a)"
   ]
  },
  {
   "cell_type": "code",
   "execution_count": 30,
   "metadata": {},
   "outputs": [
    {
     "name": "stdout",
     "output_type": "stream",
     "text": [
      "Tensor(\"Const_10:0\", shape=(2, 1), dtype=float32)\n"
     ]
    }
   ],
   "source": [
    "# Exibe o tensor \"tensor_b\".\n",
    "print(tensor_b)"
   ]
  },
  {
   "cell_type": "code",
   "execution_count": 31,
   "metadata": {},
   "outputs": [],
   "source": [
    "# Multiplicação\n",
    "# tf.multiply(X, Y) executa multiplicação element-wise \n",
    "# https://www.tensorflow.org/api_docs/python/tf/multiply\n",
    "prod = tf.multiply(tensor_a, tensor_b)"
   ]
  },
  {
   "cell_type": "code",
   "execution_count": 32,
   "metadata": {},
   "outputs": [
    {
     "name": "stdout",
     "output_type": "stream",
     "text": [
      "\n",
      "tensor_a: \n",
      " [[4. 2.]]\n",
      "\n",
      "tensor_b: \n",
      " [[3.]\n",
      " [7.]]\n",
      "\n",
      "Produto Element-wise Entre os Tensores: \n",
      " [[12.  6.]\n",
      " [28. 14.]]\n"
     ]
    }
   ],
   "source": [
    "# Executa a sessão\n",
    "with tf.Session() as sess:\n",
    "    print('\\ntensor_a: \\n', sess.run(tensor_a))\n",
    "    print('\\ntensor_b: \\n', sess.run(tensor_b))\n",
    "    print('\\nProduto Element-wise Entre os Tensores: \\n', sess.run(prod))"
   ]
  },
  {
   "cell_type": "markdown",
   "metadata": {},
   "source": [
    "# NOTE:  \n",
    "Lembre que operações com matrizes é sempre __LINHA POR COLUNA__:  \n",
    "\n",
    "```  \n",
    "[4 , 2] x [3]  = [12 , 12]  \n",
    "          [7]    [28 , 14]  \n",
    "```\n",
    "\n",
    "![title](imagens/mult01.png)"
   ]
  },
  {
   "cell_type": "code",
   "execution_count": 33,
   "metadata": {},
   "outputs": [],
   "source": [
    "# Outro exemplo de Multiplicação de Matrizes\n",
    "mat_a = tf.constant([[2, 3], [9, 2], [4, 5]])\n",
    "mat_b = tf.constant([[6, 4, 5], [3, 7, 2]])"
   ]
  },
  {
   "cell_type": "code",
   "execution_count": 34,
   "metadata": {},
   "outputs": [
    {
     "name": "stdout",
     "output_type": "stream",
     "text": [
      "Tensor(\"Const_11:0\", shape=(3, 2), dtype=int32)\n"
     ]
    }
   ],
   "source": [
    "print(mat_a)"
   ]
  },
  {
   "cell_type": "code",
   "execution_count": 35,
   "metadata": {},
   "outputs": [
    {
     "name": "stdout",
     "output_type": "stream",
     "text": [
      "Tensor(\"Const_12:0\", shape=(2, 3), dtype=int32)\n"
     ]
    }
   ],
   "source": [
    "print(mat_b)"
   ]
  },
  {
   "cell_type": "code",
   "execution_count": 36,
   "metadata": {},
   "outputs": [],
   "source": [
    "# Multiplicação\n",
    "# tf.matmul(X, Y) executa multiplicação entre matrizes \n",
    "# https://www.tensorflow.org/api_docs/python/tf/matmul\n",
    "mat_prod = tf.matmul(mat_a, mat_b)"
   ]
  },
  {
   "cell_type": "code",
   "execution_count": 37,
   "metadata": {},
   "outputs": [
    {
     "name": "stdout",
     "output_type": "stream",
     "text": [
      "\n",
      "Tensor mat_a: \n",
      " [[2 3]\n",
      " [9 2]\n",
      " [4 5]]\n",
      "\n",
      "Tensor mat_b: \n",
      " [[6 4 5]\n",
      " [3 7 2]]\n",
      "\n",
      "Produto Element-wise Entre os Tensores (Matrizes): \n",
      " [[21 29 16]\n",
      " [60 50 49]\n",
      " [39 51 30]]\n"
     ]
    }
   ],
   "source": [
    "# Executa a sessão\n",
    "with tf.Session() as sess:\n",
    "    print('\\nTensor mat_a: \\n', sess.run(mat_a))\n",
    "    print('\\nTensor mat_b: \\n', sess.run(mat_b))\n",
    "    print('\\nProduto Element-wise Entre os Tensores (Matrizes): \\n', sess.run(mat_prod))"
   ]
  },
  {
   "cell_type": "markdown",
   "metadata": {},
   "source": [
    "![title](imagens/mult02.png)  \n",
    "  \n",
    "![title](imagens/matrizes.png)"
   ]
  },
  {
   "cell_type": "markdown",
   "metadata": {},
   "source": [
    "# Usando Variáveis"
   ]
  },
  {
   "cell_type": "markdown",
   "metadata": {},
   "source": [
    "O __TensorFlow__ também possui nodes variáveis que podem conter dados variáveis. Elas são usados principalmente para manter e atualizar parâmetros de um modelo de treinamento.\n",
    "\n",
    "Variáveis são buffers na memória contendo tensores. Elas devem ser inicializados e podem ser salvas durante e após o treinamento. Você pode restaurar os valores salvos posteriormente para exercitar ou analisar o modelo.\n",
    "\n",
    "Uma diferença importante a notar entre uma __constante__ e uma __variável__ é:\n",
    "\n",
    " - O valor de uma constante é armazenado no grafo e seu valor é replicado onde o grafo é carregado\n",
    " - Uma variável é armazenada separadamente e pode estar em um servidor de parâmetros."
   ]
  },
  {
   "cell_type": "code",
   "execution_count": 38,
   "metadata": {},
   "outputs": [
    {
     "name": "stdout",
     "output_type": "stream",
     "text": [
      "\n",
      "Tensor Original:\n",
      " [[0. 0.]\n",
      " [0. 0.]]\n",
      "\n",
      "Tensor depois da adição:\n",
      " [[1. 1.]\n",
      " [1. 1.]]\n"
     ]
    }
   ],
   "source": [
    "# Importa a biblioteca TensorFlow.\n",
    "import tensorflow as tf\n",
    " \n",
    "# Criando um node no grafo computacional\n",
    "node = tf.Variable(tf.zeros([2,2])) # Utiliza o método zeros() do TensorFLow para o vetor/matriz de zeros.\n",
    " \n",
    "# Executando o grafo computacional\n",
    "with tf.Session() as sess:\n",
    " \n",
    "    # Inicializando as variábeis\n",
    "    sess.run(tf.global_variables_initializer())\n",
    " \n",
    "    # Avaliando o node\n",
    "    print(\"\\nTensor Original:\\n\", sess.run(node))\n",
    " \n",
    "    # Adição element-wise no tensor\n",
    "    node = node.assign(node + tf.ones([2,2]))\n",
    " \n",
    "    # Avaliando o node novamente\n",
    "    print(\"\\nTensor depois da adição:\\n\", sess.run(node))"
   ]
  },
  {
   "cell_type": "markdown",
   "metadata": {},
   "source": [
    "# Usando Placeholders"
   ]
  },
  {
   "cell_type": "markdown",
   "metadata": {},
   "source": [
    "O que fazer quando precisamos criar tensores, porém ainda não sabemos os valores do mesmos? __What?__ Bem suponha que em algum momento nós precisamos criar tensores, mas os seus tamanhos depende de outras saídas(outputs) como reserva memória para eles? Simples, utilize a função __placeholder()__ do TensorFlow.\n",
    "\n",
    "Essa função recebe os seguintes argumentos:\n",
    "- __O tipo de dado (int32)__\n",
    "- __O shape do tensor(vetor, matriz), ou seja, as dimensões__"
   ]
  },
  {
   "cell_type": "code",
   "execution_count": 39,
   "metadata": {},
   "outputs": [
    {
     "name": "stdout",
     "output_type": "stream",
     "text": [
      "[[3 6 9]\n",
      " [2 4 6]\n",
      " [1 2 3]]\n"
     ]
    }
   ],
   "source": [
    "# Importa a biblioteca TensorFlow.\n",
    "import tensorflow as tf\n",
    " \n",
    "# Utiliza a função placeholder() do TensorFlow para reserva espaço na memória\n",
    "a = tf.placeholder(tf.int32, shape=(3,1))\n",
    "b = tf.placeholder(tf.int32, shape=(1,3))\n",
    "\n",
    "# Multiplica os tensores \"a\" e \"b\" e salva no objeto \"c\".\n",
    "c = tf.matmul(a,b)\n",
    " \n",
    "# - Abre uma Sessão(Session) TensorFlow\n",
    "# - Utiliza o método run() do TensorFLow para executar o Grafo Computacional\n",
    "# - Utiliza o argumento \"feed_dict\" que é um tipo de dicinário que relaciona os tensores \"a\" e \"b\"\n",
    "#   com os valores que vamos passar para eles.\n",
    "with tf.Session() as sess:\n",
    "    print(sess.run(c, feed_dict={a:[[3],[2],[1]], b:[[1,2,3]]}))"
   ]
  },
  {
   "cell_type": "markdown",
   "metadata": {},
   "source": [
    "![title](imagens/mult02.png)"
   ]
  }
 ],
 "metadata": {
  "kernelspec": {
   "display_name": "Python 3",
   "language": "python",
   "name": "python3"
  },
  "language_info": {
   "codemirror_mode": {
    "name": "ipython",
    "version": 3
   },
   "file_extension": ".py",
   "mimetype": "text/x-python",
   "name": "python",
   "nbconvert_exporter": "python",
   "pygments_lexer": "ipython3",
   "version": "3.5.4"
  }
 },
 "nbformat": 4,
 "nbformat_minor": 1
}
